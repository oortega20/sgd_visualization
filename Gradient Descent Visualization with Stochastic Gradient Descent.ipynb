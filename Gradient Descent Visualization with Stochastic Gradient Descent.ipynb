{
 "cells": [
  {
   "cell_type": "markdown",
   "id": "eastern-tower",
   "metadata": {},
   "source": [
    "# Gradient Descent Visualization"
   ]
  },
  {
   "cell_type": "code",
   "execution_count": 1,
   "id": "hollywood-receiver",
   "metadata": {},
   "outputs": [],
   "source": [
    "from mpl_toolkits import mplot3d"
   ]
  },
  {
   "cell_type": "code",
   "execution_count": 2,
   "id": "small-candy",
   "metadata": {},
   "outputs": [],
   "source": [
    "import matplotlib\n",
    "import numpy as np\n",
    "import matplotlib.pyplot as plt\n",
    "from matplotlib.animation import FuncAnimation, PillowWriter\n",
    "from IPython.display import HTML\n",
    "\n",
    "\n",
    "matplotlib.rcParams['animation.embed_limit'] = 4**128"
   ]
  },
  {
   "cell_type": "markdown",
   "id": "future-increase",
   "metadata": {},
   "source": [
    "### Function to be Optimized"
   ]
  },
  {
   "cell_type": "code",
   "execution_count": 3,
   "id": "novel-alexander",
   "metadata": {},
   "outputs": [],
   "source": [
    "def f(x, y):\n",
    "    return (x / 4) ** 2 + (y / 2) ** 2\n",
    "\n",
    "def grad_f(x, y):\n",
    "    return np.array([2 * (x / 4), 2 * (y / 2)])\n"
   ]
  },
  {
   "cell_type": "markdown",
   "id": "forward-victor",
   "metadata": {},
   "source": [
    "### Optimizer to be used"
   ]
  },
  {
   "cell_type": "code",
   "execution_count": 4,
   "id": "latin-virus",
   "metadata": {},
   "outputs": [],
   "source": [
    "def SGD(learning_rate):\n",
    "    def optimize(pt):\n",
    "        return pt - learning_rate * grad_f(*pt)\n",
    "    return optimize"
   ]
  },
  {
   "cell_type": "markdown",
   "id": "explicit-subdivision",
   "metadata": {},
   "source": [
    "### Generating Data to be used for Animation"
   ]
  },
  {
   "cell_type": "code",
   "execution_count": 5,
   "id": "premier-exclusion",
   "metadata": {},
   "outputs": [],
   "source": [
    "def gen_data(num_iters, pt, opt):\n",
    "    data = []\n",
    "    \n",
    "    for _ in range(num_iters):\n",
    "        new_data = [*pt, f(*pt)]\n",
    "        data.append(new_data)\n",
    "        pt = opt(pt)\n",
    "    \n",
    "    return np.array(data).T"
   ]
  },
  {
   "cell_type": "code",
   "execution_count": 6,
   "id": "rapid-meeting",
   "metadata": {},
   "outputs": [],
   "source": [
    "learning_rate, num_iters = 1e-2, 1000\n",
    "opt = SGD(learning_rate)"
   ]
  },
  {
   "cell_type": "code",
   "execution_count": 7,
   "id": "consolidated-preparation",
   "metadata": {},
   "outputs": [],
   "source": [
    "pt = np.array([10,10])\n",
    "\n",
    "data = gen_data(num_iters, pt, opt)\n",
    "\n",
    "\n"
   ]
  },
  {
   "cell_type": "code",
   "execution_count": 8,
   "id": "specified-murray",
   "metadata": {},
   "outputs": [],
   "source": [
    "x = np.linspace(-10, 10, 30)\n",
    "y = np.linspace(-10, 10, 30)\n",
    "\n",
    "X, Y = np.meshgrid(x, y)\n",
    "Z = f(X, Y)\n",
    "\n",
    "fig = plt.figure(figsize=(8, 8))\n",
    "ax = plt.axes(projection='3d')\n",
    "ax.contour3D(X, Y, Z, 50, cmap='binary')\n",
    "ax.set_xlabel('x')\n",
    "ax.set_ylabel('y')\n",
    "ax.set_zlabel('z')\n",
    "ax.set_title('SGD visualization: $\\mathcal{L} = (x \\div 4)^{2} + (y \\div 2)^{2}: \\lambda = 1e-2$')\n",
    "\n",
    "line, = ax.plot(data[0, 0:1], data[1, 0:1], data[2, 0:1])\n",
    "\n",
    "def update(num, data, line):\n",
    "    line.set_data(data[:2, :num])\n",
    "    line.set_3d_properties(data[2, :num])\n",
    "\n",
    "ani = FuncAnimation(fig, update, num_iters, fargs=(data, line), blit=False)\n",
    "plt.close()\n",
    "ani.save('sgd.gif', PillowWriter(fps=60))\n",
    "#HTML(ani.to_jshtml())\n"
   ]
  }
 ],
 "metadata": {
  "kernelspec": {
   "display_name": "Python 3",
   "language": "python",
   "name": "python3"
  },
  "language_info": {
   "codemirror_mode": {
    "name": "ipython",
    "version": 3
   },
   "file_extension": ".py",
   "mimetype": "text/x-python",
   "name": "python",
   "nbconvert_exporter": "python",
   "pygments_lexer": "ipython3",
   "version": "3.9.2"
  }
 },
 "nbformat": 4,
 "nbformat_minor": 5
}
